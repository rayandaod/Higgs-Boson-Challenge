{
 "cells": [
  {
   "cell_type": "markdown",
   "metadata": {},
   "source": [
    "### Testing preprocessing"
   ]
  },
  {
   "cell_type": "code",
   "execution_count": 1,
   "metadata": {},
   "outputs": [],
   "source": [
    "# Useful starting lines\n",
    "%matplotlib inline\n",
    "import numpy as np\n",
    "import matplotlib.pyplot as plt\n",
    "%load_ext autoreload\n",
    "%autoreload 2\n",
    "from implementations import *\n",
    "from preprocessing import *"
   ]
  },
  {
   "cell_type": "code",
   "execution_count": 2,
   "metadata": {},
   "outputs": [],
   "source": [
    "from proj1_helpers import *\n",
    "DATA_TRAIN_PATH = '../data/train.csv' # TODO: download train data and supply path here \n",
    "y, tX, ids = load_csv_data(DATA_TRAIN_PATH)"
   ]
  },
  {
   "cell_type": "markdown",
   "metadata": {},
   "source": [
    "### Grouping rows into groups, according to the placement of -999."
   ]
  },
  {
   "cell_type": "code",
   "execution_count": 3,
   "metadata": {},
   "outputs": [],
   "source": [
    "y_grouped, tX_grouped, ids_grouped, masks, count = data_separation(y, tX, ids, -999)\n",
    "tX_grouped_clean = drop_features(tX_grouped, masks)\n",
    "tX_clean = remove_invariable_features(tX_grouped_clean)\n",
    "tX_clean_std = standardize(tX_clean)"
   ]
  },
  {
   "cell_type": "code",
   "execution_count": 5,
   "metadata": {
    "scrolled": true
   },
   "outputs": [
    {
     "name": "stdout",
     "output_type": "stream",
     "text": [
      "optimal_w of group  0 :  [-5.02536808e-04 -4.39267216e-03 -2.63023381e-03  2.83232929e-03\n",
      " -2.58470290e-02  5.44115843e-04 -1.14424610e-03  2.97249221e-01\n",
      " -2.09316493e-03 -2.29452692e+00 -1.75920945e-01  1.15293685e-01\n",
      "  3.87196131e-01  2.29846580e+00 -3.69438775e-03 -1.23076762e-04\n",
      "  2.30186929e+00 -5.69629494e-03  1.97880259e-03  1.18885088e-03\n",
      "  3.22134579e-03 -1.02519616e-03 -3.29758047e-01 -4.23805741e-03\n",
      "  3.38420092e-03  3.62244550e-03 -1.32324259e-03  2.61260961e-03\n",
      " -1.82969838e-03  2.29658996e+00]\n",
      "loss of group  0 :  0.36925361648852484\n",
      "optimal_w of group  1 :  [ 3.20028418e-03 -7.94505858e-03 -7.10234429e-03 -1.39416972e-03\n",
      "  7.28513005e-02  1.94399433e-03 -6.60816283e+00 -3.18036842e-01\n",
      "  9.01354347e-02  6.61089058e+00  1.35128325e-03 -3.68204039e-03\n",
      "  6.62015019e+00 -5.99707886e-03 -5.65679459e-04  5.98797792e-04\n",
      "  2.31362762e-03 -7.98982577e-04 -4.38072396e+01  2.10081547e-04\n",
      " -4.96809885e-04  5.04168897e+01]\n",
      "loss of group  1 :  0.40313043292667416\n",
      "optimal_w of group  2 :  [ 7.05196036e-03 -1.00108189e-02 -1.70999775e-02 -5.90769809e+01\n",
      "  2.85433713e-01  5.90754081e+01 -6.82657036e+00 -6.72683124e-01\n",
      "  5.08770941e-04  6.82700258e+00  6.49147645e-04 -2.40830787e-06\n",
      "  6.84567711e+00  3.25882245e-03  3.23393257e-04  1.00892532e-03\n",
      " -3.91653038e-03  2.80340898e-04]\n",
      "loss of group  2 :  0.32008131219536495\n",
      "optimal_w of group  3 :  [-9.34625888e-04 -1.32573652e-03  3.16585372e-04 -5.64599012e-02\n",
      "  6.18936162e-04 -1.71136421e-02  1.50705452e-02  3.85732804e-03\n",
      " -3.19401894e+00 -7.82147744e-02  1.12915949e-03  6.48830096e-02\n",
      "  3.19813573e+00 -5.05201265e-03  7.58948708e-04  3.19894249e+00\n",
      " -3.32888496e-03 -4.89002699e-03  1.20500132e-04  1.00730860e-03\n",
      " -1.30648315e-03 -3.38597946e-01 -1.90039080e-03 -7.13993040e-03\n",
      " -4.06809077e-03 -2.06851047e-03  2.33597947e-03  1.50962062e-02\n",
      "  3.19601741e+00]\n",
      "loss of group  3 :  0.155312364494992\n",
      "optimal_w of group  4 :  [-4.18477880e-03  7.82086190e-04 -4.95981752e-03 -1.62824238e-01\n",
      "  2.51313175e-03  2.93657146e+01 -3.37070743e-01  9.80699699e-02\n",
      " -2.93696679e+01  3.65593115e-03  3.88452187e-03 -2.93508755e+01\n",
      "  2.48429458e-03  1.34914658e-03  5.31945281e-03  2.35063751e-03\n",
      " -1.76630133e-03 -2.78021554e+02 -2.50488355e-03 -2.25741925e-03\n",
      "  2.48657958e+02]\n",
      "loss of group  4 :  0.16550489213917935\n",
      "optimal_w of group  5 :  [-6.12976209e-03 -1.36774618e-03  8.72761649e+01  1.28310830e-02\n",
      " -8.72830391e+01  9.69219572e+00 -4.08123031e-01  6.00474249e-01\n",
      " -9.69779024e+00 -4.10739682e-04 -2.18040276e-03 -9.67108455e+00\n",
      "  4.67166000e-03  3.30286001e-04  1.11635273e-02  1.41707012e-03\n",
      " -8.93675046e-04]\n",
      "loss of group  5 :  0.10657376231917937\n"
     ]
    }
   ],
   "source": [
    "optimal_ws = []\n",
    "for i in range(len(tX_clean)):\n",
    "    tX = tX_clean[i]\n",
    "    y = y_grouped[i]\n",
    "    #length = len(tX)\n",
    "    #train_set_index = (int)(length * 3/4)\n",
    "    #train_set = tX[:train_set_index]\n",
    "    #train_label = y[:train_set_index]\n",
    "    #test_set = tX[train_set_index:]\n",
    "    #test_label =y[train_set_index:]\n",
    "    optimal_w, loss = least_squares(y, tX)\n",
    "    print(\"optimal_w of group \" , i,\": \", optimal_w )\n",
    "    print(\"loss of group \" , i,\": \", loss )\n",
    "    #y_test = predict_labels(optimal_w, test_set)\n",
    "    optimal_ws.append(optimal_w)\n",
    "    #accuracy = np.abs(y_test + test_label)\n",
    "    #unique, counts = np.unique(accuracy, return_counts=True)\n",
    "    #print(\"Accuracy for groupe \" , i , \" : \", counts[1]/len(accuracy))\n"
   ]
  },
  {
   "cell_type": "code",
   "execution_count": 168,
   "metadata": {},
   "outputs": [],
   "source": [
    "DATA_TEST_PATH = '../data/test.csv' # TODO: download train data and supply path here \n",
    "y_test, tX_test, ids_test = load_csv_data(DATA_TEST_PATH)"
   ]
  },
  {
   "cell_type": "code",
   "execution_count": 169,
   "metadata": {},
   "outputs": [],
   "source": [
    "_, tX_grouped, ids_grouped, masks, count = data_separation(y_test, tX_test, ids_test, -999)\n",
    "tX_grouped_clean = drop_features(tX_grouped, masks)\n",
    "tX_clean = remove_invariable_features(tX_grouped_clean)\n",
    "tX_clean_std = standardize(tX_clean)\n",
    "predicted_y = []\n",
    "for i in range(len(tX_clean)):\n",
    "    y_pred = predict_labels(optimal_ws[i],tX_clean[i])\n",
    "    predicted_y.append(y_pred)\n"
   ]
  },
  {
   "cell_type": "code",
   "execution_count": 170,
   "metadata": {},
   "outputs": [
    {
     "name": "stdout",
     "output_type": "stream",
     "text": [
      "568238\n"
     ]
    }
   ],
   "source": [
    "flat_id = [ids for array in ids_grouped for ids in array ]\n",
    "print(len(flat_id))"
   ]
  },
  {
   "cell_type": "code",
   "execution_count": 171,
   "metadata": {},
   "outputs": [
    {
     "name": "stdout",
     "output_type": "stream",
     "text": [
      "568238\n"
     ]
    }
   ],
   "source": [
    "flat_y = [y for array in predicted_y for y in array ]\n",
    "print(len(flat_y))"
   ]
  },
  {
   "cell_type": "code",
   "execution_count": 172,
   "metadata": {
    "scrolled": true
   },
   "outputs": [],
   "source": [
    "zipped = list(zip(flat_id,flat_y))\n",
    "zipped.sort(key = lambda t: t[0])\n",
    "ids_test, y_pred = zip(*zipped)"
   ]
  },
  {
   "cell_type": "code",
   "execution_count": 173,
   "metadata": {},
   "outputs": [],
   "source": [
    "OUTPUT_PATH = '../data/output.csv' # TODO: fill in desired name of output file for submission\n",
    "create_csv_submission(np.array(ids_test), np.array(y_pred), OUTPUT_PATH)"
   ]
  },
  {
   "cell_type": "markdown",
   "metadata": {},
   "source": [
    "### Testing ridge regression - No need to look down there\n",
    "higher the alpha value, more restriction on the coefficients; low alpha > more generalization, coefficients are barely restricted"
   ]
  },
  {
   "cell_type": "code",
   "execution_count": 37,
   "metadata": {},
   "outputs": [
    {
     "name": "stdout",
     "output_type": "stream",
     "text": [
      "gello\n",
      "Accuracy:  0.743488\n"
     ]
    }
   ],
   "source": [
    "length = len(ids)\n",
    "train_set_index = (int)(length * 3/4)\n",
    "train_set = tX[:train_set_index]\n",
    "train_label = y[:train_set_index]\n",
    "test_set = tX[train_set_index:]\n",
    "test_label =y[train_set_index:]\n",
    "optimal_w, loss = ridge_regression(train_label, train_set, 0)\n",
    "\n",
    "y_test = predict_labels(optimal_w, test_set)\n",
    "accuracy = np.abs(y_test + test_label)\n",
    "unique, counts = np.unique(accuracy, return_counts=True)\n",
    "print(\"Accuracy: \", counts[1]/len(accuracy))"
   ]
  },
  {
   "cell_type": "code",
   "execution_count": 56,
   "metadata": {},
   "outputs": [
    {
     "ename": "IndexError",
     "evalue": "list assignment index out of range",
     "output_type": "error",
     "traceback": [
      "\u001b[0;31m---------------------------------------------------------------------------\u001b[0m",
      "\u001b[0;31mIndexError\u001b[0m                                Traceback (most recent call last)",
      "\u001b[0;32m<ipython-input-56-bb0f103efa77>\u001b[0m in \u001b[0;36m<module>\u001b[0;34m\u001b[0m\n\u001b[1;32m      1\u001b[0m \u001b[0ma\u001b[0m \u001b[0;34m=\u001b[0m \u001b[0;34m[\u001b[0m\u001b[0;34m]\u001b[0m\u001b[0;34m\u001b[0m\u001b[0m\n\u001b[1;32m      2\u001b[0m \u001b[0;32mfor\u001b[0m \u001b[0mi\u001b[0m \u001b[0;32min\u001b[0m \u001b[0mrange\u001b[0m\u001b[0;34m(\u001b[0m\u001b[0;36m2\u001b[0m\u001b[0;34m)\u001b[0m\u001b[0;34m:\u001b[0m\u001b[0;34m\u001b[0m\u001b[0m\n\u001b[0;32m----> 3\u001b[0;31m     \u001b[0ma\u001b[0m\u001b[0;34m[\u001b[0m\u001b[0mi\u001b[0m\u001b[0;34m]\u001b[0m \u001b[0;34m=\u001b[0m \u001b[0mi\u001b[0m\u001b[0;34m\u001b[0m\u001b[0m\n\u001b[0m",
      "\u001b[0;31mIndexError\u001b[0m: list assignment index out of range"
     ]
    }
   ],
   "source": [
    "a = []\n",
    "for i in range(2):\n",
    "    a[i] = i"
   ]
  },
  {
   "cell_type": "markdown",
   "metadata": {},
   "source": [
    "### Let's try with polynomial regression"
   ]
  },
  {
   "cell_type": "code",
   "execution_count": 3,
   "metadata": {},
   "outputs": [
    {
     "ename": "ValueError",
     "evalue": "shapes (30,2,250000) and (250000,2,30) not aligned: 250000 (dim 2) != 2 (dim 1)",
     "output_type": "error",
     "traceback": [
      "\u001b[0;31m---------------------------------------------------------------------------\u001b[0m",
      "\u001b[0;31mValueError\u001b[0m                                Traceback (most recent call last)",
      "\u001b[0;32m<ipython-input-3-4ef9a8a6a4ab>\u001b[0m in \u001b[0;36m<module>\u001b[0;34m\u001b[0m\n\u001b[1;32m      9\u001b[0m     \u001b[0mtest_set\u001b[0m \u001b[0;34m=\u001b[0m \u001b[0mtX\u001b[0m\u001b[0;34m[\u001b[0m\u001b[0mtrain_set_index\u001b[0m\u001b[0;34m:\u001b[0m\u001b[0;34m]\u001b[0m\u001b[0;34m\u001b[0m\u001b[0m\n\u001b[1;32m     10\u001b[0m     \u001b[0mtest_label\u001b[0m \u001b[0;34m=\u001b[0m\u001b[0my\u001b[0m\u001b[0;34m[\u001b[0m\u001b[0mtrain_set_index\u001b[0m\u001b[0;34m:\u001b[0m\u001b[0;34m]\u001b[0m\u001b[0;34m\u001b[0m\u001b[0m\n\u001b[0;32m---> 11\u001b[0;31m     \u001b[0moptimal_w\u001b[0m\u001b[0;34m,\u001b[0m \u001b[0m_\u001b[0m \u001b[0;34m=\u001b[0m \u001b[0mleast_squares\u001b[0m\u001b[0;34m(\u001b[0m\u001b[0my\u001b[0m\u001b[0;34m,\u001b[0m \u001b[0mtX\u001b[0m\u001b[0;34m)\u001b[0m\u001b[0;34m\u001b[0m\u001b[0m\n\u001b[0m\u001b[1;32m     12\u001b[0m     \u001b[0my_test\u001b[0m \u001b[0;34m=\u001b[0m \u001b[0mpredict_labels\u001b[0m\u001b[0;34m(\u001b[0m\u001b[0moptimal_w\u001b[0m\u001b[0;34m,\u001b[0m \u001b[0mtest_set\u001b[0m\u001b[0;34m)\u001b[0m\u001b[0;34m\u001b[0m\u001b[0m\n\u001b[1;32m     13\u001b[0m     \u001b[0moptimal_ws\u001b[0m\u001b[0;34m.\u001b[0m\u001b[0mappend\u001b[0m\u001b[0;34m(\u001b[0m\u001b[0moptimal_w\u001b[0m\u001b[0;34m)\u001b[0m\u001b[0;34m\u001b[0m\u001b[0m\n",
      "\u001b[0;32m~/Desktop/MLproject1/ML2019/src/implementations.py\u001b[0m in \u001b[0;36mleast_squares\u001b[0;34m(y, tx)\u001b[0m\n\u001b[1;32m     65\u001b[0m \u001b[0;32mdef\u001b[0m \u001b[0mleast_squares\u001b[0m\u001b[0;34m(\u001b[0m\u001b[0my\u001b[0m\u001b[0;34m,\u001b[0m \u001b[0mtx\u001b[0m\u001b[0;34m)\u001b[0m\u001b[0;34m:\u001b[0m\u001b[0;34m\u001b[0m\u001b[0m\n\u001b[1;32m     66\u001b[0m     \u001b[0mtx_T\u001b[0m \u001b[0;34m=\u001b[0m \u001b[0mtx\u001b[0m\u001b[0;34m.\u001b[0m\u001b[0mT\u001b[0m\u001b[0;34m\u001b[0m\u001b[0m\n\u001b[0;32m---> 67\u001b[0;31m     \u001b[0mw\u001b[0m \u001b[0;34m=\u001b[0m \u001b[0mnp\u001b[0m\u001b[0;34m.\u001b[0m\u001b[0mlinalg\u001b[0m\u001b[0;34m.\u001b[0m\u001b[0minv\u001b[0m\u001b[0;34m(\u001b[0m\u001b[0mtx_T\u001b[0m \u001b[0;34m@\u001b[0m \u001b[0mtx\u001b[0m\u001b[0;34m)\u001b[0m \u001b[0;34m@\u001b[0m \u001b[0mtx_T\u001b[0m \u001b[0;34m@\u001b[0m \u001b[0my\u001b[0m\u001b[0;34m\u001b[0m\u001b[0m\n\u001b[0m\u001b[1;32m     68\u001b[0m     \u001b[0mloss\u001b[0m\u001b[0;34m,\u001b[0m \u001b[0mloss_gradient\u001b[0m \u001b[0;34m=\u001b[0m \u001b[0mmean_square_error\u001b[0m\u001b[0;34m(\u001b[0m\u001b[0my\u001b[0m\u001b[0;34m,\u001b[0m \u001b[0mtx\u001b[0m\u001b[0;34m,\u001b[0m \u001b[0mw\u001b[0m\u001b[0;34m)\u001b[0m\u001b[0;34m\u001b[0m\u001b[0m\n\u001b[1;32m     69\u001b[0m     \u001b[0;32mreturn\u001b[0m \u001b[0mw\u001b[0m\u001b[0;34m,\u001b[0m \u001b[0mloss\u001b[0m\u001b[0;34m\u001b[0m\u001b[0m\n",
      "\u001b[0;31mValueError\u001b[0m: shapes (30,2,250000) and (250000,2,30) not aligned: 250000 (dim 2) != 2 (dim 1)"
     ]
    }
   ],
   "source": [
    "degrees = [1, 3, 7, 12]\n",
    "for d in degrees:\n",
    "    tX = build_poly(tX,d)\n",
    "    optimal_ws = []\n",
    "    length = len(tX)\n",
    "    train_set_index = (int)(length * 3/4)\n",
    "    train_set = tX[:train_set_index]\n",
    "    train_label = y[:train_set_index]\n",
    "    test_set = tX[train_set_index:]\n",
    "    test_label =y[train_set_index:]\n",
    "    optimal_w, _ = least_squares(y, tX)\n",
    "    y_test = predict_labels(optimal_w, test_set)\n",
    "    optimal_ws.append(optimal_w)\n",
    "    accuracy = np.abs(y_test + test_label)\n",
    "    unique, counts = np.unique(accuracy, return_counts=True)\n",
    "    print(\"Accuracy for groupe for degree \",d, \" : \", counts[1]/len(accuracy))    "
   ]
  },
  {
   "cell_type": "code",
   "execution_count": null,
   "metadata": {},
   "outputs": [],
   "source": []
  }
 ],
 "metadata": {
  "kernelspec": {
   "display_name": "Python 3",
   "language": "python",
   "name": "python3"
  },
  "language_info": {
   "codemirror_mode": {
    "name": "ipython",
    "version": 3
   },
   "file_extension": ".py",
   "mimetype": "text/x-python",
   "name": "python",
   "nbconvert_exporter": "python",
   "pygments_lexer": "ipython3",
   "version": "3.6.6"
  }
 },
 "nbformat": 4,
 "nbformat_minor": 2
}
