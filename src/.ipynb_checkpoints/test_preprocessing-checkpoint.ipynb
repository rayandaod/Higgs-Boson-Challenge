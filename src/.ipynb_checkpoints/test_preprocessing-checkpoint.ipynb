{
 "cells": [
  {
   "cell_type": "markdown",
   "metadata": {},
   "source": [
    "### Testing preprocessing"
   ]
  },
  {
   "cell_type": "code",
   "execution_count": 108,
   "metadata": {},
   "outputs": [
    {
     "name": "stdout",
     "output_type": "stream",
     "text": [
      "The autoreload extension is already loaded. To reload it, use:\n",
      "  %reload_ext autoreload\n"
     ]
    }
   ],
   "source": [
    "# Useful starting lines\n",
    "%matplotlib inline\n",
    "import numpy as np\n",
    "import matplotlib.pyplot as plt\n",
    "%load_ext autoreload\n",
    "%autoreload 2\n",
    "from implementations import *\n",
    "from preprocessing import *"
   ]
  },
  {
   "cell_type": "code",
   "execution_count": 109,
   "metadata": {},
   "outputs": [],
   "source": [
    "from proj1_helpers import *\n",
    "DATA_TRAIN_PATH = '../data/train.csv' # TODO: download train data and supply path here \n",
    "y, tX, ids = load_csv_data(DATA_TRAIN_PATH)"
   ]
  },
  {
   "cell_type": "markdown",
   "metadata": {},
   "source": [
    "### Grouping rows into groups, according to the placement of -999."
   ]
  },
  {
   "cell_type": "code",
   "execution_count": 111,
   "metadata": {},
   "outputs": [],
   "source": [
    "y_grouped, tX_grouped, ids_grouped, masks, count = data_separation(y, tX, ids, -999)\n",
    "tX_grouped_clean = drop_features(tX_grouped, masks)\n",
    "tX_clean = remove_invariable_features(tX_grouped)\n",
    "tX_clean_std = standardize(tX_grouped)"
   ]
  },
  {
   "cell_type": "code",
   "execution_count": 112,
   "metadata": {
    "scrolled": true
   },
   "outputs": [
    {
     "name": "stdout",
     "output_type": "stream",
     "text": [
      "Accuracy for groupe  0  :  0.745368624789483\n",
      "Accuracy for groupe  1  :  0.7455370252235285\n",
      "Accuracy for groupe  2  :  0.7452352330754451\n",
      "Accuracy for groupe  3  :  0.7419683069900559\n",
      "Accuracy for groupe  4  :  0.7435425184894139\n",
      "Accuracy for groupe  5  :  0.7458030971146835\n"
     ]
    }
   ],
   "source": [
    "optimal_ws = []\n",
    "for i in range(len(tX_clean_std)):\n",
    "    length = len(tX_clean_std[i])\n",
    "    train_set_index = (int)(length * 3/4)\n",
    "    train_set = tX[:train_set_index]\n",
    "    train_label = y[:train_set_index]\n",
    "    test_set = tX[train_set_index:]\n",
    "    test_label =y[train_set_index:]\n",
    "    optimal_w, _ = least_squares(train_label, train_set)\n",
    "    y_test = predict_labels(optimal_w, test_set)\n",
    "    optimal_ws.append(optimal_w)\n",
    "    accuracy = np.abs(y_test + test_label)\n",
    "    unique, counts = np.unique(accuracy, return_counts=True)\n",
    "    print(\"Accuracy for groupe \" , i , \" : \", counts[1]/len(accuracy))\n"
   ]
  },
  {
   "cell_type": "code",
   "execution_count": 113,
   "metadata": {},
   "outputs": [],
   "source": [
    "DATA_TEST_PATH = '../data/test.csv' # TODO: download train data and supply path here \n",
    "y_test, tX_test, ids_test = load_csv_data(DATA_TEST_PATH)"
   ]
  },
  {
   "cell_type": "code",
   "execution_count": 114,
   "metadata": {},
   "outputs": [],
   "source": [
    "_, tX_grouped, ids_grouped, masks, count = data_separation(y_test, tX_test, ids_test, -999)\n",
    "predicted_y = []\n",
    "for i in range(len(tX_grouped)):\n",
    "    y_pred = predict_labels(optimal_ws[i],tX_grouped[i])\n",
    "    predicted_y.append(y_pred)\n"
   ]
  },
  {
   "cell_type": "code",
   "execution_count": 115,
   "metadata": {},
   "outputs": [
    {
     "name": "stdout",
     "output_type": "stream",
     "text": [
      "568238\n"
     ]
    }
   ],
   "source": [
    "flat_id = [ids for array in ids_grouped for ids in array ]\n",
    "print(len(flat_id))"
   ]
  },
  {
   "cell_type": "code",
   "execution_count": 116,
   "metadata": {},
   "outputs": [
    {
     "name": "stdout",
     "output_type": "stream",
     "text": [
      "568238\n"
     ]
    }
   ],
   "source": [
    "flat_y = [y for array in predicted_y for y in array ]\n",
    "print(len(flat_y))"
   ]
  },
  {
   "cell_type": "code",
   "execution_count": 117,
   "metadata": {
    "scrolled": true
   },
   "outputs": [],
   "source": [
    "zipped = list(zip(flat_id,flat_y))\n",
    "zipped.sort(key = lambda t: t[0])\n",
    "ids_test, y_pred = zip(*zipped)"
   ]
  },
  {
   "cell_type": "code",
   "execution_count": 118,
   "metadata": {},
   "outputs": [],
   "source": [
    "OUTPUT_PATH = '../data/output.csv' # TODO: fill in desired name of output file for submission\n",
    "create_csv_submission(np.array(ids_test), np.array(y_pred), OUTPUT_PATH)"
   ]
  },
  {
   "cell_type": "markdown",
   "metadata": {},
   "source": [
    "### Testing ridge regression - No need to look down there\n",
    "higher the alpha value, more restriction on the coefficients; low alpha > more generalization, coefficients are barely restricted"
   ]
  },
  {
   "cell_type": "code",
   "execution_count": 37,
   "metadata": {},
   "outputs": [
    {
     "name": "stdout",
     "output_type": "stream",
     "text": [
      "gello\n",
      "Accuracy:  0.743488\n"
     ]
    }
   ],
   "source": [
    "length = len(ids)\n",
    "train_set_index = (int)(length * 3/4)\n",
    "train_set = tX[:train_set_index]\n",
    "train_label = y[:train_set_index]\n",
    "test_set = tX[train_set_index:]\n",
    "test_label =y[train_set_index:]\n",
    "optimal_w, loss = ridge_regression(train_label, train_set, 0)\n",
    "\n",
    "y_test = predict_labels(optimal_w, test_set)\n",
    "accuracy = np.abs(y_test + test_label)\n",
    "unique, counts = np.unique(accuracy, return_counts=True)\n",
    "print(\"Accuracy: \", counts[1]/len(accuracy))"
   ]
  },
  {
   "cell_type": "code",
   "execution_count": 56,
   "metadata": {},
   "outputs": [
    {
     "ename": "IndexError",
     "evalue": "list assignment index out of range",
     "output_type": "error",
     "traceback": [
      "\u001b[0;31m---------------------------------------------------------------------------\u001b[0m",
      "\u001b[0;31mIndexError\u001b[0m                                Traceback (most recent call last)",
      "\u001b[0;32m<ipython-input-56-bb0f103efa77>\u001b[0m in \u001b[0;36m<module>\u001b[0;34m\u001b[0m\n\u001b[1;32m      1\u001b[0m \u001b[0ma\u001b[0m \u001b[0;34m=\u001b[0m \u001b[0;34m[\u001b[0m\u001b[0;34m]\u001b[0m\u001b[0;34m\u001b[0m\u001b[0m\n\u001b[1;32m      2\u001b[0m \u001b[0;32mfor\u001b[0m \u001b[0mi\u001b[0m \u001b[0;32min\u001b[0m \u001b[0mrange\u001b[0m\u001b[0;34m(\u001b[0m\u001b[0;36m2\u001b[0m\u001b[0;34m)\u001b[0m\u001b[0;34m:\u001b[0m\u001b[0;34m\u001b[0m\u001b[0m\n\u001b[0;32m----> 3\u001b[0;31m     \u001b[0ma\u001b[0m\u001b[0;34m[\u001b[0m\u001b[0mi\u001b[0m\u001b[0;34m]\u001b[0m \u001b[0;34m=\u001b[0m \u001b[0mi\u001b[0m\u001b[0;34m\u001b[0m\u001b[0m\n\u001b[0m",
      "\u001b[0;31mIndexError\u001b[0m: list assignment index out of range"
     ]
    }
   ],
   "source": [
    "a = []\n",
    "for i in range(2):\n",
    "    a[i] = i"
   ]
  },
  {
   "cell_type": "code",
   "execution_count": null,
   "metadata": {},
   "outputs": [],
   "source": []
  }
 ],
 "metadata": {
  "kernelspec": {
   "display_name": "Python 3",
   "language": "python",
   "name": "python3"
  },
  "language_info": {
   "codemirror_mode": {
    "name": "ipython",
    "version": 3
   },
   "file_extension": ".py",
   "mimetype": "text/x-python",
   "name": "python",
   "nbconvert_exporter": "python",
   "pygments_lexer": "ipython3",
   "version": "3.6.6"
  }
 },
 "nbformat": 4,
 "nbformat_minor": 2
}
