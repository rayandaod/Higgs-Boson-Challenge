{
 "cells": [
  {
   "cell_type": "code",
   "execution_count": 81,
   "metadata": {},
   "outputs": [
    {
     "name": "stdout",
     "output_type": "stream",
     "text": [
      "The autoreload extension is already loaded. To reload it, use:\n",
      "  %reload_ext autoreload\n"
     ]
    }
   ],
   "source": [
    "%matplotlib inline\n",
    "import numpy as np\n",
    "import matplotlib.pyplot as plt\n",
    "%load_ext autoreload\n",
    "%autoreload 2\n",
    "from implementations import *"
   ]
  },
  {
   "cell_type": "code",
   "execution_count": 82,
   "metadata": {},
   "outputs": [],
   "source": [
    "import datetime\n",
    "from helpers import *\n",
    "\n",
    "height, weight, gender = load_data(sub_sample=False, add_outlier=False)\n",
    "x, mean_x, std_x = standardize(height)\n",
    "y, tx = build_model_data(x, weight)"
   ]
  },
  {
   "cell_type": "markdown",
   "metadata": {},
   "source": [
    "### Parameters"
   ]
  },
  {
   "cell_type": "code",
   "execution_count": 83,
   "metadata": {},
   "outputs": [],
   "source": [
    "max_iters = 50\n",
    "gamma = 0.7\n",
    "batch_size = 1\n",
    "# Initialization\n",
    "initial_w = np.array([0, 0])"
   ]
  },
  {
   "cell_type": "markdown",
   "metadata": {},
   "source": [
    "### Let's test first the gradient descent.\n"
   ]
  },
  {
   "cell_type": "code",
   "execution_count": 60,
   "metadata": {
    "scrolled": false
   },
   "outputs": [
    {
     "name": "stdout",
     "output_type": "stream",
     "text": [
      "[73.293922   13.47971243] 15.3858878688294\n"
     ]
    }
   ],
   "source": [
    "optimal_w, loss = least_squares_GD(y, tx, initial_w, max_iters, gamma)\n",
    "print(optimal_w, loss)"
   ]
  },
  {
   "cell_type": "markdown",
   "metadata": {},
   "source": [
    "This happens to give the same results with the data used in lab2."
   ]
  },
  {
   "cell_type": "markdown",
   "metadata": {},
   "source": [
    "### Least squares"
   ]
  },
  {
   "cell_type": "code",
   "execution_count": 78,
   "metadata": {
    "scrolled": true
   },
   "outputs": [
    {
     "name": "stdout",
     "output_type": "stream",
     "text": [
      "[73.293922   13.47971243] 15.385887868829398\n"
     ]
    }
   ],
   "source": [
    "optimal_w, loss = least_squares(y,tx) \n",
    "print(optimal_w, loss)"
   ]
  },
  {
   "cell_type": "markdown",
   "metadata": {},
   "source": [
    "### Stochastic gradient descent"
   ]
  },
  {
   "cell_type": "code",
   "execution_count": 87,
   "metadata": {
    "scrolled": true
   },
   "outputs": [
    {
     "name": "stdout",
     "output_type": "stream",
     "text": [
      "[75.54846327 17.23982045] 24.99657218413913\n"
     ]
    }
   ],
   "source": [
    "optimal_w, loss = least_squares_SGD(y, tx, initial_w, max_iters, gamma)\n",
    "print(optimal_w, loss)"
   ]
  },
  {
   "cell_type": "code",
   "execution_count": 52,
   "metadata": {},
   "outputs": [],
   "source": [
    "tx = np.array([[1,3],[2,4],[4,5]])\n",
    "w = np.array([1,2])\n",
    "y = np.array([1, 1, 1])\n",
    "e = y - tx@w.T\n",
    "\n",
    "\n",
    "loss_gradient = -tx.T@e\n",
    "random_n = np.random.randint(tx.shape[0])\n",
    "e_n = e[random_n]\n",
    "tx_n = -tx[random_n]\n",
    "loss_gradient_n = tx_n * e_n \n"
   ]
  },
  {
   "cell_type": "markdown",
   "metadata": {},
   "source": [
    "### Ridge regression"
   ]
  },
  {
   "cell_type": "code",
   "execution_count": 88,
   "metadata": {},
   "outputs": [
    {
     "name": "stdout",
     "output_type": "stream",
     "text": [
      "[73.28524637 13.47103681] 15.385963135356116\n"
     ]
    }
   ],
   "source": [
    "lamda_ = 0\n",
    "optimal_w, loss =  ridge_regression(y, tx, lamda_)\n",
    "print(optimal_w, loss)"
   ]
  },
  {
   "cell_type": "markdown",
   "metadata": {},
   "source": [
    "### logistic regression GD"
   ]
  },
  {
   "cell_type": "code",
   "execution_count": 96,
   "metadata": {
    "scrolled": true
   },
   "outputs": [
    {
     "name": "stdout",
     "output_type": "stream",
     "text": [
      "xw is  [0. 0. 0. ... 0. 0. 0.]\n",
      "w_temp is now  [509557.45401474  94357.98704492]\n",
      "xw is  [692995.18320483 568770.55179468 699447.56768372 ... 448254.20999769\n",
      " 574959.30414448 401073.29209193]\n",
      "w_temp is now  [nan nan]\n",
      "[nan nan] nan\n"
     ]
    },
    {
     "name": "stderr",
     "output_type": "stream",
     "text": [
      "/Users/Kopiga/Desktop/MLproject1/ML2019/TEST/implementations.py:154: RuntimeWarning: invalid value encountered in true_divide\n"
     ]
    }
   ],
   "source": [
    "optimal_w, loss = logistic_regression_GD(y, tx, initial_w, max_iters, gamma)\n",
    "print(optimal_w, loss)"
   ]
  },
  {
   "cell_type": "markdown",
   "metadata": {},
   "source": [
    "### logisitc regression SGD"
   ]
  },
  {
   "cell_type": "code",
   "execution_count": null,
   "metadata": {},
   "outputs": [],
   "source": [
    "optimal_w, loss = logistic_regression_SGD(y, tx, initial_w, max_iters, gamma)\n",
    "print(optimal_w, loss)"
   ]
  },
  {
   "cell_type": "code",
   "execution_count": 91,
   "metadata": {},
   "outputs": [
    {
     "name": "stdout",
     "output_type": "stream",
     "text": [
      "[[  2.71828183  20.08553692]\n",
      " [  7.3890561   54.59815003]\n",
      " [ 54.59815003 148.4131591 ]]\n"
     ]
    }
   ],
   "source": [
    "a = np.array([[1,3],[2,4],[4,5]])\n",
    "print(np.exp(a))"
   ]
  },
  {
   "cell_type": "markdown",
   "metadata": {},
   "source": [
    "### regularized ridge regression"
   ]
  },
  {
   "cell_type": "code",
   "execution_count": 98,
   "metadata": {},
   "outputs": [
    {
     "name": "stdout",
     "output_type": "stream",
     "text": [
      "[73.293922   13.47971243] 15.3858878688294\n"
     ]
    }
   ],
   "source": [
    "lambda_ = 0\n",
    "optimal_w, loss = reg_logistic_regression(y, tx, lambda_, initial_w, max_iters, gamma)\n",
    "print(optimal_w, loss)"
   ]
  },
  {
   "cell_type": "code",
   "execution_count": null,
   "metadata": {},
   "outputs": [],
   "source": []
  }
 ],
 "metadata": {
  "kernelspec": {
   "display_name": "Python 3",
   "language": "python",
   "name": "python3"
  },
  "language_info": {
   "codemirror_mode": {
    "name": "ipython",
    "version": 3
   },
   "file_extension": ".py",
   "mimetype": "text/x-python",
   "name": "python",
   "nbconvert_exporter": "python",
   "pygments_lexer": "ipython3",
   "version": "3.6.6"
  }
 },
 "nbformat": 4,
 "nbformat_minor": 2
}
